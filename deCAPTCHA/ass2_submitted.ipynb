{
  "nbformat": 4,
  "nbformat_minor": 0,
  "metadata": {
    "colab": {
      "provenance": [],
      "authorship_tag": "ABX9TyPsO1NprMe60RJ+CdXe4kxi",
      "include_colab_link": true
    },
    "kernelspec": {
      "name": "python3",
      "display_name": "Python 3"
    },
    "language_info": {
      "name": "python"
    }
  },
  "cells": [
    {
      "cell_type": "markdown",
      "metadata": {
        "id": "view-in-github",
        "colab_type": "text"
      },
      "source": [
        "<a href=\"https://colab.research.google.com/github/rabindra20-git/CS771_projects/blob/main/ass2_submitted.ipynb\" target=\"_parent\"><img src=\"https://colab.research.google.com/assets/colab-badge.svg\" alt=\"Open In Colab\"/></a>"
      ]
    },
    {
      "cell_type": "code",
      "source": [
        "from google.colab.patches import cv2_imshow\n",
        "from google.colab import drive\n",
        "drive.mount('/content/drive')"
      ],
      "metadata": {
        "colab": {
          "base_uri": "https://localhost:8080/"
        },
        "id": "XFt_MM4xBSiw",
        "outputId": "436664b2-601f-4315-ac40-f1c67f8ac2c6"
      },
      "execution_count": null,
      "outputs": [
        {
          "output_type": "stream",
          "name": "stdout",
          "text": [
            "Mounted at /content/drive\n"
          ]
        }
      ]
    },
    {
      "cell_type": "code",
      "source": [],
      "metadata": {
        "id": "ewDORDvtZ6Ca"
      },
      "execution_count": null,
      "outputs": []
    },
    {
      "cell_type": "code",
      "source": [
        "import cv2\n",
        "import numpy as np\n",
        "import os\n",
        "from joblib import Parallel, delayed\n",
        "from sklearn.linear_model import LogisticRegression\n",
        "from sklearn.metrics import accuracy_score\n",
        "from sklearn.model_selection import train_test_split\n",
        "\n",
        "train_dir= '/content/drive/MyDrive/assn2/train'\n",
        "reference_dir = '/content/drive/MyDrive/assn2/reference'\n",
        "\n",
        "def vanish_lines(image, color_range=80):\n",
        "    hsv_image = cv2.cvtColor(image, cv2.COLOR_BGR2HSV)\n",
        "    v = hsv_image[:,:,2]\n",
        "    min_val = np.min(v)\n",
        "    mask = cv2.inRange(v, np.array(min_val - color_range), np.array(min_val + color_range))\n",
        "    result_image = cv2.bitwise_and(image, image, mask=mask)\n",
        "    result_image[np.where(mask == 0)] = 255\n",
        "    return result_image\n",
        "\n",
        "\n",
        "def segment_last_letter_bw(image):\n",
        "\n",
        "    # Convert the image to grayscale\n",
        "    gray_image = cv2.cvtColor(image, cv2.COLOR_BGR2GRAY)\n",
        "\n",
        "    # Apply thresholding to segment the image into binary form\n",
        "    _, binary_image = cv2.threshold(gray_image, 127, 255, cv2.THRESH_BINARY_INV)\n",
        "\n",
        "    # Find contours of the letters\n",
        "    contours, _ = cv2.findContours(binary_image, cv2.RETR_EXTERNAL, cv2.CHAIN_APPROX_SIMPLE)\n",
        "\n",
        "    # Sort the contours from left to right\n",
        "    contours = sorted(contours, key=lambda c: cv2.boundingRect(c)[0])\n",
        "\n",
        "    # Extract the last letter\n",
        "    last_contour = contours[-1]\n",
        "    x, y, w, h = cv2.boundingRect(last_contour)\n",
        "    last_letter = gray_image[y:y+h, x:x+w]\n",
        "\n",
        "    # Apply thresholding to convert to black and white\n",
        "    _, last_letter_bw = cv2.threshold(last_letter, 127, 255, cv2.THRESH_BINARY)\n",
        "\n",
        "    return last_letter_bw\n",
        "\n",
        "\n",
        "# Process images using parallelization\n",
        "def process_image(filename):\n",
        "    if filename.endswith('.png'):\n",
        "        img_path = os.path.join(train_dir, filename)\n",
        "        img = cv2.imread(img_path)\n",
        "        img = vanish_lines(img)\n",
        "        img = segment_last_letter_bw(img)\n",
        "        img = cv2.resize(img, (50, 50))\n",
        "        return img\n",
        "\n",
        "a = 1\n",
        "files = sorted(os.listdir(train_dir), key=lambda x: int(x[:-4]) if x.endswith('.png') else a==1)\n",
        "\n",
        "# Parallelize image processing using joblib\n",
        "resized_images = Parallel(n_jobs=-1)(delayed(process_image)(filename) for filename in files)\n",
        "\n",
        "# Filter out None values (if any) and convert to NumPy array\n",
        "resized_images = np.array([img for img in resized_images if img is not None])\n",
        "\n",
        "# Load labels\n",
        "labels_file = os.path.join(train_dir, 'labels.txt')\n",
        "with open(labels_file, 'r') as file:\n",
        "    labels = [line.strip() for line in file.readlines()]\n",
        "\n",
        "# Split the preprocessed images and labels into train and test datasets\n",
        "X_train, X_test, y_train, y_test = train_test_split(resized_images, labels, test_size=0.2, random_state=42)\n",
        "\n",
        "# Reshape the train and test data to 2D\n",
        "X_train_2d = X_train.reshape(X_train.shape[0], -1)\n",
        "X_test_2d = X_test.reshape(X_test.shape[0], -1)\n",
        "\n",
        "# Create a logistic regression classifier and fit it to the training data\n",
        "model = LogisticRegression()\n",
        "model.fit(X_train_2d, y_train)\n",
        "\n",
        "# Perform predictions on the test data\n",
        "y_pred = model.predict(X_test_2d)\n",
        "\n",
        "# Calculate the accuracy of the predictions\n",
        "accuracy = accuracy_score(y_test, y_pred)\n",
        "print(\"Accuracy:\", accuracy)\n",
        "\n",
        "# Save the labels to a text file\n",
        "output_file = os.path.join(train_dir, 'predicted_labels.txt')\n",
        "with open(output_file, 'w') as file:\n",
        "    for label in y_pred:\n",
        "        file.write(label + '\\n')"
      ],
      "metadata": {
        "colab": {
          "base_uri": "https://localhost:8080/"
        },
        "id": "Vgy6MKgKks4y",
        "outputId": "90a05aa7-249e-4219-94df-afa2971aba90"
      },
      "execution_count": null,
      "outputs": [
        {
          "output_type": "stream",
          "name": "stdout",
          "text": [
            "Accuracy: 1.0\n"
          ]
        }
      ]
    }
  ]
}